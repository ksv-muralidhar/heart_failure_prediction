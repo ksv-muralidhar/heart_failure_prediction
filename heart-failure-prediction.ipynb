{
 "cells": [
  {
   "cell_type": "markdown",
   "metadata": {
    "papermill": {
     "duration": 0.04959,
     "end_time": "2020-10-31T14:57:52.091014",
     "exception": false,
     "start_time": "2020-10-31T14:57:52.041424",
     "status": "completed"
    },
    "tags": []
   },
   "source": [
    "<h1>THIS NOTEBOOK COVERS</h1>\n",
    "    \n",
    "<h3><ol>\n",
    "<li><a href=\"#eda\">EDA</a></li>\n",
    "<li><a href=\"#feature_selection\">Feature Selection</a></li>\n",
    "<li><a href=\"#smote\">Handling Imbalanced Class Problem With SMOTE</a></li>\n",
    "<li><a href=\"#rf\">Training RandomForestClassifier & Hyperparameter Tuning With GridSearchCV</a></li>\n",
    "<li><a href=\"#lc\">Identifying Overfitting With Learning Curve</a></li>\n",
    "<li><a href=\"#oof\">Overcoming Overfitting</a></li>    "
   ]
  },
  {
   "cell_type": "markdown",
   "metadata": {
    "papermill": {
     "duration": 0.04762,
     "end_time": "2020-10-31T14:57:52.186623",
     "exception": false,
     "start_time": "2020-10-31T14:57:52.139003",
     "status": "completed"
    },
    "tags": []
   },
   "source": [
    "RandomForestClaasifier is an ensemble machine learning algorithm which uses a technique called bootstrap aggregation (aka bagging). Bootstrapping is a statistical technique of drawing multiple random samples of size 'k' with replacement. Aggregation refers to combining the prediction of multiple models.\n",
    "\n",
    "Random Forests work by drawing multiple samples from the training set and build multiple models and average their predictions to give a final prediction."
   ]
  },
  {
   "cell_type": "code",
   "execution_count": 1,
   "metadata": {
    "_cell_guid": "b1076dfc-b9ad-4769-8c92-a6c4dae69d19",
    "_uuid": "8f2839f25d086af736a60e9eeb907d3b93b6e0e5",
    "papermill": {
     "duration": 1.751977,
     "end_time": "2020-10-31T14:57:53.985423",
     "exception": false,
     "start_time": "2020-10-31T14:57:52.233446",
     "status": "completed"
    },
    "tags": []
   },
   "outputs": [],
   "source": [
    "import pandas as pd\n",
    "import numpy as np\n",
    "from scipy.stats import chi2_contingency \n",
    "import matplotlib.pyplot as plt\n",
    "import seaborn as sns\n",
    "from sklearn.ensemble import RandomForestClassifier\n",
    "from sklearn.model_selection import train_test_split, GridSearchCV, learning_curve\n",
    "from imblearn.over_sampling import SMOTE \n",
    "from sklearn.decomposition import PCA\n",
    "from sklearn.metrics import classification_report, confusion_matrix, plot_roc_curve, plot_precision_recall_curve"
   ]
  },
  {
   "cell_type": "code",
   "execution_count": 2,
   "metadata": {
    "papermill": {
     "duration": 0.072779,
     "end_time": "2020-10-31T14:57:54.111059",
     "exception": false,
     "start_time": "2020-10-31T14:57:54.038280",
     "status": "completed"
    },
    "tags": []
   },
   "outputs": [],
   "source": [
    "src = pd.read_csv(\"./data_src/heart_failure_data.csv\")"
   ]
  },
  {
   "cell_type": "markdown",
   "metadata": {
    "papermill": {
     "duration": 0.04729,
     "end_time": "2020-10-31T14:57:54.206065",
     "exception": false,
     "start_time": "2020-10-31T14:57:54.158775",
     "status": "completed"
    },
    "tags": []
   },
   "source": [
    "<a id=\"eda\"></a><h1>EDA</h1>"
   ]
  },
  {
   "cell_type": "code",
   "execution_count": 3,
   "metadata": {
    "execution": {
     "iopub.execute_input": "2020-10-31T14:57:54.318096Z",
     "iopub.status.busy": "2020-10-31T14:57:54.315683Z",
     "iopub.status.idle": "2020-10-31T14:57:54.331277Z",
     "shell.execute_reply": "2020-10-31T14:57:54.330651Z"
    },
    "papermill": {
     "duration": 0.078493,
     "end_time": "2020-10-31T14:57:54.331416",
     "exception": false,
     "start_time": "2020-10-31T14:57:54.252923",
     "status": "completed"
    },
    "tags": []
   },
   "outputs": [
    {
     "data": {
      "text/html": [
       "<div>\n",
       "<style scoped>\n",
       "    .dataframe tbody tr th:only-of-type {\n",
       "        vertical-align: middle;\n",
       "    }\n",
       "\n",
       "    .dataframe tbody tr th {\n",
       "        vertical-align: top;\n",
       "    }\n",
       "\n",
       "    .dataframe thead th {\n",
       "        text-align: right;\n",
       "    }\n",
       "</style>\n",
       "<table border=\"1\" class=\"dataframe\">\n",
       "  <thead>\n",
       "    <tr style=\"text-align: right;\">\n",
       "      <th></th>\n",
       "      <th>age</th>\n",
       "      <th>anaemia</th>\n",
       "      <th>creatinine_phosphokinase</th>\n",
       "      <th>diabetes</th>\n",
       "      <th>ejection_fraction</th>\n",
       "      <th>high_blood_pressure</th>\n",
       "      <th>platelets</th>\n",
       "      <th>serum_creatinine</th>\n",
       "      <th>serum_sodium</th>\n",
       "      <th>sex</th>\n",
       "      <th>smoking</th>\n",
       "      <th>time</th>\n",
       "      <th>DEATH_EVENT</th>\n",
       "    </tr>\n",
       "  </thead>\n",
       "  <tbody>\n",
       "    <tr>\n",
       "      <th>0</th>\n",
       "      <td>75.0</td>\n",
       "      <td>0</td>\n",
       "      <td>582</td>\n",
       "      <td>0</td>\n",
       "      <td>20</td>\n",
       "      <td>1</td>\n",
       "      <td>265000.00</td>\n",
       "      <td>1.9</td>\n",
       "      <td>130</td>\n",
       "      <td>1</td>\n",
       "      <td>0</td>\n",
       "      <td>4</td>\n",
       "      <td>1</td>\n",
       "    </tr>\n",
       "    <tr>\n",
       "      <th>1</th>\n",
       "      <td>55.0</td>\n",
       "      <td>0</td>\n",
       "      <td>7861</td>\n",
       "      <td>0</td>\n",
       "      <td>38</td>\n",
       "      <td>0</td>\n",
       "      <td>263358.03</td>\n",
       "      <td>1.1</td>\n",
       "      <td>136</td>\n",
       "      <td>1</td>\n",
       "      <td>0</td>\n",
       "      <td>6</td>\n",
       "      <td>1</td>\n",
       "    </tr>\n",
       "    <tr>\n",
       "      <th>2</th>\n",
       "      <td>65.0</td>\n",
       "      <td>0</td>\n",
       "      <td>146</td>\n",
       "      <td>0</td>\n",
       "      <td>20</td>\n",
       "      <td>0</td>\n",
       "      <td>162000.00</td>\n",
       "      <td>1.3</td>\n",
       "      <td>129</td>\n",
       "      <td>1</td>\n",
       "      <td>1</td>\n",
       "      <td>7</td>\n",
       "      <td>1</td>\n",
       "    </tr>\n",
       "    <tr>\n",
       "      <th>3</th>\n",
       "      <td>50.0</td>\n",
       "      <td>1</td>\n",
       "      <td>111</td>\n",
       "      <td>0</td>\n",
       "      <td>20</td>\n",
       "      <td>0</td>\n",
       "      <td>210000.00</td>\n",
       "      <td>1.9</td>\n",
       "      <td>137</td>\n",
       "      <td>1</td>\n",
       "      <td>0</td>\n",
       "      <td>7</td>\n",
       "      <td>1</td>\n",
       "    </tr>\n",
       "    <tr>\n",
       "      <th>4</th>\n",
       "      <td>65.0</td>\n",
       "      <td>1</td>\n",
       "      <td>160</td>\n",
       "      <td>1</td>\n",
       "      <td>20</td>\n",
       "      <td>0</td>\n",
       "      <td>327000.00</td>\n",
       "      <td>2.7</td>\n",
       "      <td>116</td>\n",
       "      <td>0</td>\n",
       "      <td>0</td>\n",
       "      <td>8</td>\n",
       "      <td>1</td>\n",
       "    </tr>\n",
       "  </tbody>\n",
       "</table>\n",
       "</div>"
      ],
      "text/plain": [
       "    age  anaemia  creatinine_phosphokinase  diabetes  ejection_fraction  \\\n",
       "0  75.0        0                       582         0                 20   \n",
       "1  55.0        0                      7861         0                 38   \n",
       "2  65.0        0                       146         0                 20   \n",
       "3  50.0        1                       111         0                 20   \n",
       "4  65.0        1                       160         1                 20   \n",
       "\n",
       "   high_blood_pressure  platelets  serum_creatinine  serum_sodium  sex  \\\n",
       "0                    1  265000.00               1.9           130    1   \n",
       "1                    0  263358.03               1.1           136    1   \n",
       "2                    0  162000.00               1.3           129    1   \n",
       "3                    0  210000.00               1.9           137    1   \n",
       "4                    0  327000.00               2.7           116    0   \n",
       "\n",
       "   smoking  time  DEATH_EVENT  \n",
       "0        0     4            1  \n",
       "1        0     6            1  \n",
       "2        1     7            1  \n",
       "3        0     7            1  \n",
       "4        0     8            1  "
      ]
     },
     "execution_count": 3,
     "metadata": {},
     "output_type": "execute_result"
    }
   ],
   "source": [
    "src.head()"
   ]
  },
  {
   "cell_type": "code",
   "execution_count": 4,
   "metadata": {
    "execution": {
     "iopub.execute_input": "2020-10-31T14:57:54.438586Z",
     "iopub.status.busy": "2020-10-31T14:57:54.437535Z",
     "iopub.status.idle": "2020-10-31T14:57:54.442692Z",
     "shell.execute_reply": "2020-10-31T14:57:54.441904Z"
    },
    "papermill": {
     "duration": 0.06275,
     "end_time": "2020-10-31T14:57:54.442855",
     "exception": false,
     "start_time": "2020-10-31T14:57:54.380105",
     "status": "completed"
    },
    "tags": []
   },
   "outputs": [
    {
     "data": {
      "text/plain": [
       "age                         float64\n",
       "anaemia                       int64\n",
       "creatinine_phosphokinase      int64\n",
       "diabetes                      int64\n",
       "ejection_fraction             int64\n",
       "high_blood_pressure           int64\n",
       "platelets                   float64\n",
       "serum_creatinine            float64\n",
       "serum_sodium                  int64\n",
       "sex                           int64\n",
       "smoking                       int64\n",
       "time                          int64\n",
       "DEATH_EVENT                   int64\n",
       "dtype: object"
      ]
     },
     "execution_count": 4,
     "metadata": {},
     "output_type": "execute_result"
    }
   ],
   "source": [
    "src.dtypes"
   ]
  },
  {
   "cell_type": "markdown",
   "metadata": {
    "papermill": {
     "duration": 0.048805,
     "end_time": "2020-10-31T14:57:54.541496",
     "exception": false,
     "start_time": "2020-10-31T14:57:54.492691",
     "status": "completed"
    },
    "tags": []
   },
   "source": [
    "Below we see the percentage of missing values per column. The dataset has no missing values"
   ]
  },
  {
   "cell_type": "code",
   "execution_count": 5,
   "metadata": {
    "execution": {
     "iopub.execute_input": "2020-10-31T14:57:54.647729Z",
     "iopub.status.busy": "2020-10-31T14:57:54.644822Z",
     "iopub.status.idle": "2020-10-31T14:57:54.652846Z",
     "shell.execute_reply": "2020-10-31T14:57:54.652098Z"
    },
    "papermill": {
     "duration": 0.062108,
     "end_time": "2020-10-31T14:57:54.652975",
     "exception": false,
     "start_time": "2020-10-31T14:57:54.590867",
     "status": "completed"
    },
    "tags": []
   },
   "outputs": [
    {
     "data": {
      "text/plain": [
       "age                         0.0\n",
       "anaemia                     0.0\n",
       "creatinine_phosphokinase    0.0\n",
       "diabetes                    0.0\n",
       "ejection_fraction           0.0\n",
       "high_blood_pressure         0.0\n",
       "platelets                   0.0\n",
       "serum_creatinine            0.0\n",
       "serum_sodium                0.0\n",
       "sex                         0.0\n",
       "smoking                     0.0\n",
       "time                        0.0\n",
       "DEATH_EVENT                 0.0\n",
       "dtype: float64"
      ]
     },
     "execution_count": 5,
     "metadata": {},
     "output_type": "execute_result"
    }
   ],
   "source": [
    "src.isnull().mean()"
   ]
  },
  {
   "cell_type": "code",
   "execution_count": 6,
   "metadata": {
    "execution": {
     "iopub.execute_input": "2020-10-31T14:57:54.758566Z",
     "iopub.status.busy": "2020-10-31T14:57:54.757652Z",
     "iopub.status.idle": "2020-10-31T14:57:54.761966Z",
     "shell.execute_reply": "2020-10-31T14:57:54.761389Z"
    },
    "papermill": {
     "duration": 0.058746,
     "end_time": "2020-10-31T14:57:54.762110",
     "exception": false,
     "start_time": "2020-10-31T14:57:54.703364",
     "status": "completed"
    },
    "tags": []
   },
   "outputs": [
    {
     "data": {
      "text/plain": [
       "(299, 13)"
      ]
     },
     "execution_count": 6,
     "metadata": {},
     "output_type": "execute_result"
    }
   ],
   "source": [
    "src.shape"
   ]
  },
  {
   "cell_type": "code",
   "execution_count": 7,
   "metadata": {
    "execution": {
     "iopub.execute_input": "2020-10-31T14:57:54.874585Z",
     "iopub.status.busy": "2020-10-31T14:57:54.873593Z",
     "iopub.status.idle": "2020-10-31T14:57:54.878674Z",
     "shell.execute_reply": "2020-10-31T14:57:54.878076Z"
    },
    "papermill": {
     "duration": 0.065263,
     "end_time": "2020-10-31T14:57:54.878806",
     "exception": false,
     "start_time": "2020-10-31T14:57:54.813543",
     "status": "completed"
    },
    "tags": []
   },
   "outputs": [
    {
     "data": {
      "text/plain": [
       "0    203\n",
       "1     96\n",
       "Name: DEATH_EVENT, dtype: int64"
      ]
     },
     "execution_count": 7,
     "metadata": {},
     "output_type": "execute_result"
    }
   ],
   "source": [
    "src[\"DEATH_EVENT\"].value_counts()"
   ]
  },
  {
   "cell_type": "code",
   "execution_count": 8,
   "metadata": {
    "execution": {
     "iopub.execute_input": "2020-10-31T14:57:54.986756Z",
     "iopub.status.busy": "2020-10-31T14:57:54.985925Z",
     "iopub.status.idle": "2020-10-31T14:57:55.196196Z",
     "shell.execute_reply": "2020-10-31T14:57:55.195612Z"
    },
    "papermill": {
     "duration": 0.267618,
     "end_time": "2020-10-31T14:57:55.196357",
     "exception": false,
     "start_time": "2020-10-31T14:57:54.928739",
     "status": "completed"
    },
    "tags": []
   },
   "outputs": [
    {
     "data": {
      "image/png": "[encoded data removed]",
      "text/plain": [
       "<Figure size 432x288 with 1 Axes>"
      ]
     },
     "metadata": {
      "needs_background": "light"
     },
     "output_type": "display_data"
    }
   ],
   "source": [
    "src[\"DEATH_EVENT\"].value_counts().plot(kind=\"bar\")\n",
    "plt.title(\"Class Distribution\");"
   ]
  },
  {
   "cell_type": "markdown",
   "metadata": {
    "papermill": {
     "duration": 0.050634,
     "end_time": "2020-10-31T14:57:55.298357",
     "exception": false,
     "start_time": "2020-10-31T14:57:55.247723",
     "status": "completed"
    },
    "tags": []
   },
   "source": [
    "<h3>The class/label is moderately imbalanced, with 68% of the classes pointing to 0. If I build a baseline model without need of any training, say y_hat = src[\"DEATH_EVENT\"].mode(), I'd get an accuracy of 68%.</h3>\n",
    "\n",
    "\n",
    "<h3>A class is said to be imbalanced if a single category dominates another catrgory. In this case '0' appears 203 times while '1' appears just 96 times.</h3>\n",
    "\n",
    "<h3>To overcome the problem of imbalanced class, we'll try SMOTE which will be discussed later.</h3>"
   ]
  },
  {
   "cell_type": "code",
   "execution_count": 9,
   "metadata": {
    "execution": {
     "iopub.execute_input": "2020-10-31T14:57:55.408853Z",
     "iopub.status.busy": "2020-10-31T14:57:55.408031Z",
     "iopub.status.idle": "2020-10-31T14:57:55.411619Z",
     "shell.execute_reply": "2020-10-31T14:57:55.410962Z"
    },
    "papermill": {
     "duration": 0.062388,
     "end_time": "2020-10-31T14:57:55.411748",
     "exception": false,
     "start_time": "2020-10-31T14:57:55.349360",
     "status": "completed"
    },
    "tags": []
   },
   "outputs": [],
   "source": [
    "# Storing categorical and numerical features names in different Series\n",
    "cat_features = [\"anaemia\",\"diabetes\",\"high_blood_pressure\",\"sex\",\"smoking\",\"DEATH_EVENT\"]\n",
    "num_features = pd.Series(src.columns)\n",
    "num_features = num_features[~num_features.isin(cat_features)]"
   ]
  },
  {
   "cell_type": "markdown",
   "metadata": {
    "papermill": {
     "duration": 0.052106,
     "end_time": "2020-10-31T14:57:55.516770",
     "exception": false,
     "start_time": "2020-10-31T14:57:55.464664",
     "status": "completed"
    },
    "tags": []
   },
   "source": [
    "Crosstabs/contingency tables are one of the best ways to see how categorical variables are distributed among each other.\n",
    "\n",
    "Chi-square test is a statistical technique to test a relationship betwen two categorical variables. The chi-square tests below shows no categorical variable has a relationship with the target variable."
   ]
  },
  {
   "cell_type": "code",
   "execution_count": 10,
   "metadata": {
    "execution": {
     "iopub.execute_input": "2020-10-31T14:57:55.637564Z",
     "iopub.status.busy": "2020-10-31T14:57:55.632618Z",
     "iopub.status.idle": "2020-10-31T14:57:55.787469Z",
     "shell.execute_reply": "2020-10-31T14:57:55.788371Z"
    },
    "papermill": {
     "duration": 0.219848,
     "end_time": "2020-10-31T14:57:55.788598",
     "exception": false,
     "start_time": "2020-10-31T14:57:55.568750",
     "status": "completed"
    },
    "tags": []
   },
   "outputs": [
    {
     "name": "stdout",
     "output_type": "stream",
     "text": [
      "\n",
      "--------------------------------------\n",
      "CROSSTAB BETWEEN ANAEMIA & DEATH_EVENT\n",
      "--------------------------------------\n",
      "anaemia        0   1\n",
      "DEATH_EVENT         \n",
      "0            120  83\n",
      "1             50  46\n",
      "\n",
      "H0: THERE IS NO RELATIONSHIP BETWEEN DEATH_EVENT & ANAEMIA\n",
      "H1: THERE IS RELATIONSHIP BETWEEN DEATH_EVENT & ANAEMIA\n",
      "\n",
      "P-VALUE: 0.31\n",
      "FAILED TO REJECT H0\n",
      "\n",
      "---------------------------------------\n",
      "CROSSTAB BETWEEN DIABETES & DEATH_EVENT\n",
      "---------------------------------------\n",
      "diabetes       0   1\n",
      "DEATH_EVENT         \n",
      "0            118  85\n",
      "1             56  40\n",
      "\n",
      "H0: THERE IS NO RELATIONSHIP BETWEEN DEATH_EVENT & DIABETES\n",
      "H1: THERE IS RELATIONSHIP BETWEEN DEATH_EVENT & DIABETES\n",
      "\n",
      "P-VALUE: 0.93\n",
      "FAILED TO REJECT H0\n",
      "\n",
      "--------------------------------------------------\n",
      "CROSSTAB BETWEEN HIGH_BLOOD_PRESSURE & DEATH_EVENT\n",
      "--------------------------------------------------\n",
      "high_blood_pressure    0   1\n",
      "DEATH_EVENT                 \n",
      "0                    137  66\n",
      "1                     57  39\n",
      "\n",
      "H0: THERE IS NO RELATIONSHIP BETWEEN DEATH_EVENT & HIGH_BLOOD_PRESSURE\n",
      "H1: THERE IS RELATIONSHIP BETWEEN DEATH_EVENT & HIGH_BLOOD_PRESSURE\n",
      "\n",
      "P-VALUE: 0.21\n",
      "FAILED TO REJECT H0\n",
      "\n",
      "----------------------------------\n",
      "CROSSTAB BETWEEN SEX & DEATH_EVENT\n",
      "----------------------------------\n",
      "sex           0    1\n",
      "DEATH_EVENT         \n",
      "0            71  132\n",
      "1            34   62\n",
      "\n",
      "H0: THERE IS NO RELATIONSHIP BETWEEN DEATH_EVENT & SEX\n",
      "H1: THERE IS RELATIONSHIP BETWEEN DEATH_EVENT & SEX\n",
      "\n",
      "P-VALUE: 0.96\n",
      "FAILED TO REJECT H0\n",
      "\n",
      "--------------------------------------\n",
      "CROSSTAB BETWEEN SMOKING & DEATH_EVENT\n",
      "--------------------------------------\n",
      "smoking        0   1\n",
      "DEATH_EVENT         \n",
      "0            137  66\n",
      "1             66  30\n",
      "\n",
      "H0: THERE IS NO RELATIONSHIP BETWEEN DEATH_EVENT & SMOKING\n",
      "H1: THERE IS RELATIONSHIP BETWEEN DEATH_EVENT & SMOKING\n",
      "\n",
      "P-VALUE: 0.93\n",
      "FAILED TO REJECT H0\n",
      "\n",
      "------------------------------------------\n",
      "CROSSTAB BETWEEN DEATH_EVENT & DEATH_EVENT\n",
      "------------------------------------------\n",
      "DEATH_EVENT    0   1\n",
      "DEATH_EVENT         \n",
      "0            203   0\n",
      "1              0  96\n",
      "\n",
      "H0: THERE IS NO RELATIONSHIP BETWEEN DEATH_EVENT & DEATH_EVENT\n",
      "H1: THERE IS RELATIONSHIP BETWEEN DEATH_EVENT & DEATH_EVENT\n",
      "\n",
      "P-VALUE: 0.0\n",
      "REJECT H0\n"
     ]
    }
   ],
   "source": [
    "for i in cat_features:\n",
    "    ct = pd.crosstab(columns=src[i],index=src[\"DEATH_EVENT\"])\n",
    "    stat, p, dof, expected = chi2_contingency(ct) \n",
    "    print(f\"\\n{'-'*len(f'CROSSTAB BETWEEN {i.upper()} & DEATH_EVENT')}\")\n",
    "    print(f\"CROSSTAB BETWEEN {i.upper()} & DEATH_EVENT\")\n",
    "    print(f\"{'-'*len(f'CROSSTAB BETWEEN {i.upper()} & DEATH_EVENT')}\")\n",
    "    print(ct)\n",
    "    print(f\"\\nH0: THERE IS NO RELATIONSHIP BETWEEN DEATH_EVENT & {i.upper()}\\nH1: THERE IS RELATIONSHIP BETWEEN DEATH_EVENT & {i.upper()}\")\n",
    "    print(f\"\\nP-VALUE: {np.round(p,2)}\")\n",
    "    print(\"REJECT H0\" if p<0.05 else \"FAILED TO REJECT H0\")"
   ]
  },
  {
   "cell_type": "code",
   "execution_count": 11,
   "metadata": {
    "execution": {
     "iopub.execute_input": "2020-10-31T14:57:55.914510Z",
     "iopub.status.busy": "2020-10-31T14:57:55.905020Z",
     "iopub.status.idle": "2020-10-31T14:57:56.870600Z",
     "shell.execute_reply": "2020-10-31T14:57:56.869925Z"
    },
    "papermill": {
     "duration": 1.028828,
     "end_time": "2020-10-31T14:57:56.870731",
     "exception": false,
     "start_time": "2020-10-31T14:57:55.841903",
     "status": "completed"
    },
    "tags": []
   },
   "outputs": [
    {
     "data": {
      "image/png": "[encoded data removed]",
      "text/plain": [
       "<Figure size 1008x864 with 6 Axes>"
      ]
     },
     "metadata": {
      "needs_background": "light"
     },
     "output_type": "display_data"
    }
   ],
   "source": [
    "r = c = 0\n",
    "fig,ax = plt.subplots(3,2,figsize=(14,12))\n",
    "for n,i in enumerate(cat_features[:-1]):\n",
    "    ct = pd.crosstab(columns=src[i],index=src[\"DEATH_EVENT\"],normalize=\"columns\")\n",
    "    ct.T.plot(kind=\"bar\",stacked=True,color=[\"green\",\"red\"],ax=ax[r,c])\n",
    "    ax[r,c].set_ylabel(\"% of observations\")\n",
    "    c+=1\n",
    "    if (n+1)%2==0:\n",
    "        r+=1\n",
    "        c=0\n",
    "ax[r,c].axis(\"off\")\n",
    "plt.show()"
   ]
  },
  {
   "cell_type": "markdown",
   "metadata": {
    "papermill": {
     "duration": 0.054901,
     "end_time": "2020-10-31T14:57:56.978947",
     "exception": false,
     "start_time": "2020-10-31T14:57:56.924046",
     "status": "completed"
    },
    "tags": []
   },
   "source": [
    "<h3>The above bar plots doesn't show a strong relationship among categorical variables and target variables as seen in the chi-square tests</h3>\n",
    "<h3>Boxplots are a one of the best ways to view relationships between numerical and categorical variables. Hence, we'll use them to find the relationships amomg numerical and target variables.</h3>\n"
   ]
  },
  {
   "cell_type": "code",
   "execution_count": 12,
   "metadata": {
    "execution": {
     "iopub.execute_input": "2020-10-31T14:57:57.109678Z",
     "iopub.status.busy": "2020-10-31T14:57:57.103401Z",
     "iopub.status.idle": "2020-10-31T14:57:58.232916Z",
     "shell.execute_reply": "2020-10-31T14:57:58.233537Z"
    },
    "papermill": {
     "duration": 1.198634,
     "end_time": "2020-10-31T14:57:58.233698",
     "exception": false,
     "start_time": "2020-10-31T14:57:57.035064",
     "status": "completed"
    },
    "tags": []
   },
   "outputs": [
    {
     "data": {
      "image/png": "[encoded data removed]",
      "text/plain": [
       "<Figure size 1008x1800 with 8 Axes>"
      ]
     },
     "metadata": {
      "needs_background": "light"
     },
     "output_type": "display_data"
    }
   ],
   "source": [
    "r = c = 0\n",
    "fig,ax = plt.subplots(4,2,figsize=(14,25))\n",
    "for n,i in enumerate(num_features):\n",
    "    sns.boxplot(x=\"DEATH_EVENT\",y=i,data=src,ax=ax[r,c])\n",
    "    ax[r,c].set_title(i.upper()+\" by \"+\"DEATH_EVENT\")\n",
    "    c+=1\n",
    "    if (n+1)%2==0:\n",
    "        r+=1\n",
    "        c=0\n",
    "ax[r,c].axis(\"off\")\n",
    "plt.show()"
   ]
  },
  {
   "cell_type": "code",
   "execution_count": 13,
   "metadata": {
    "execution": {
     "iopub.execute_input": "2020-10-31T14:57:58.359911Z",
     "iopub.status.busy": "2020-10-31T14:57:58.357856Z",
     "iopub.status.idle": "2020-10-31T14:57:58.589348Z",
     "shell.execute_reply": "2020-10-31T14:57:58.588540Z"
    },
    "papermill": {
     "duration": 0.2992,
     "end_time": "2020-10-31T14:57:58.589475",
     "exception": false,
     "start_time": "2020-10-31T14:57:58.290275",
     "status": "completed"
    },
    "tags": []
   },
   "outputs": [
    {
     "data": {
      "image/png": "[encoded data removed]",
      "text/plain": [
       "<Figure size 576x432 with 1 Axes>"
      ]
     },
     "metadata": {
      "needs_background": "light"
     },
     "output_type": "display_data"
    }
   ],
   "source": [
    "fig = plt.figure(figsize=(8,6))\n",
    "sns.heatmap(src[num_features].corr(),annot=True,fmt=\".2f\",mask=np.triu(src[num_features].corr()),cbar=False)\n",
    "plt.show()"
   ]
  },
  {
   "cell_type": "markdown",
   "metadata": {
    "papermill": {
     "duration": 0.056548,
     "end_time": "2020-10-31T14:57:58.703085",
     "exception": false,
     "start_time": "2020-10-31T14:57:58.646537",
     "status": "completed"
    },
    "tags": []
   },
   "source": [
    "The heatmap below shows no relationship among input features"
   ]
  },
  {
   "cell_type": "code",
   "execution_count": 14,
   "metadata": {
    "execution": {
     "iopub.execute_input": "2020-10-31T14:57:58.834038Z",
     "iopub.status.busy": "2020-10-31T14:57:58.832815Z",
     "iopub.status.idle": "2020-10-31T14:58:00.054342Z",
     "shell.execute_reply": "2020-10-31T14:58:00.053506Z"
    },
    "papermill": {
     "duration": 1.293622,
     "end_time": "2020-10-31T14:58:00.054481",
     "exception": false,
     "start_time": "2020-10-31T14:57:58.760859",
     "status": "completed"
    },
    "tags": []
   },
   "outputs": [
    {
     "data": {
      "image/png": "[encoded data removed]",
      "text/plain": [
       "<Figure size 1008x1008 with 9 Axes>"
      ]
     },
     "metadata": {
      "needs_background": "light"
     },
     "output_type": "display_data"
    }
   ],
   "source": [
    "src[num_features].hist(figsize=(14,14))\n",
    "plt.show();"
   ]
  },
  {
   "cell_type": "code",
   "execution_count": 15,
   "metadata": {
    "execution": {
     "iopub.execute_input": "2020-10-31T14:58:00.183599Z",
     "iopub.status.busy": "2020-10-31T14:58:00.182494Z",
     "iopub.status.idle": "2020-10-31T14:58:00.185875Z",
     "shell.execute_reply": "2020-10-31T14:58:00.185164Z"
    },
    "papermill": {
     "duration": 0.073004,
     "end_time": "2020-10-31T14:58:00.186011",
     "exception": false,
     "start_time": "2020-10-31T14:58:00.113007",
     "status": "completed"
    },
    "tags": []
   },
   "outputs": [],
   "source": [
    "X = src.iloc[:,:-1]\n",
    "y = src.iloc[:,-1]"
   ]
  },
  {
   "cell_type": "markdown",
   "metadata": {
    "papermill": {
     "duration": 0.058358,
     "end_time": "2020-10-31T14:58:00.306068",
     "exception": false,
     "start_time": "2020-10-31T14:58:00.247710",
     "status": "completed"
    },
    "tags": []
   },
   "source": [
    "<a id=\"feature_selection\"></a><h1>Feature Selection</h1>\n",
    "\n",
    "<h3>Finding feature importance with RandomForestClassifier.</h3>\n",
    "\n",
    "'time' is the most influential variable as it can be seen from the earlier boxplot.\n",
    "\n",
    "'serum_creatinine', 'ejection_fraction', 'age', 'creatinine_phosphokinase', 'platelets', 'serum_sodium' are looking important in the specified order. All these numerical features and as we saw from the chi-square tests earlier, the categorical features are not so important."
   ]
  },
  {
   "cell_type": "code",
   "execution_count": 16,
   "metadata": {
    "execution": {
     "iopub.execute_input": "2020-10-31T14:58:00.562948Z",
     "iopub.status.busy": "2020-10-31T14:58:00.557669Z",
     "iopub.status.idle": "2020-10-31T14:58:12.677709Z",
     "shell.execute_reply": "2020-10-31T14:58:12.677007Z"
    },
    "papermill": {
     "duration": 12.313022,
     "end_time": "2020-10-31T14:58:12.677843",
     "exception": false,
     "start_time": "2020-10-31T14:58:00.364821",
     "status": "completed"
    },
    "tags": []
   },
   "outputs": [
    {
     "data": {
      "image/png": "[encoded data removed]",
      "text/plain": [
       "<Figure size 432x720 with 1 Axes>"
      ]
     },
     "metadata": {
      "needs_background": "light"
     },
     "output_type": "display_data"
    }
   ],
   "source": [
    "rf = RandomForestClassifier(n_estimators=5000,random_state=11)\n",
    "rf.fit(X,y)\n",
    "feat_imp = pd.DataFrame(rf.feature_importances_)\n",
    "feat_imp.index = pd.Series(src.iloc[:,:-1].columns)\n",
    "feat_imp = (feat_imp*100).copy().sort_values(by=0,ascending=False)\n",
    "feat_imp = feat_imp.reset_index()\n",
    "feat_imp.columns = [\"Feature\",\"Importance_score\"]\n",
    "\n",
    "fig = plt.figure(figsize=(6,10))\n",
    "sns.scatterplot(data=feat_imp,x=5,y=np.linspace(100,0,12),size=\"Importance_score\",sizes=(200,2000),legend=False)\n",
    "for i,feat,imp in zip(np.linspace(100,0,12),feat_imp[\"Feature\"],feat_imp[\"Importance_score\"]):\n",
    "    plt.text(x=5.05,y=i-1,s=feat)\n",
    "    plt.text(x=4.89,y=i-1,s=np.round(imp,2))\n",
    "plt.axis(\"off\")\n",
    "plt.title(\"Feature Importance\")\n",
    "plt.show()"
   ]
  },
  {
   "cell_type": "markdown",
   "metadata": {
    "papermill": {
     "duration": 0.061018,
     "end_time": "2020-10-31T14:58:12.800121",
     "exception": false,
     "start_time": "2020-10-31T14:58:12.739103",
     "status": "completed"
    },
    "tags": []
   },
   "source": [
    "Once we are done with finding the feature importance, we need to identify a threshold for feature importance. It is clear that we can choose 7.222778 can be chosen as threshold. But I want to find a threshold by building a model by eliminating one least important feature at a time till the feature serum_sodium. Then select a set of features with best score.\n",
    "\n",
    "Since the class is moderately imbalanced, F1 score would be an appropriate metric instead of accuracy.\n",
    "\n",
    "<h2>Training the model without SMOTE</h2>\n",
    "\n",
    "<h3>First we train the model without using SMOTE to get an idea of the score and also find the threshold for feature importance scores"
   ]
  },
  {
   "cell_type": "code",
   "execution_count": 17,
   "metadata": {
    "_cell_guid": "79c7e3d0-c299-4dcb-8224-4455121ee9b0",
    "_uuid": "d629ff2d2480ee46fbb7e2d37f6b5fab8052498a",
    "execution": {
     "iopub.execute_input": "2020-10-31T14:58:12.983186Z",
     "iopub.status.busy": "2020-10-31T14:58:12.971605Z",
     "iopub.status.idle": "2020-10-31T15:05:02.730957Z",
     "shell.execute_reply": "2020-10-31T15:05:02.731623Z"
    },
    "papermill": {
     "duration": 409.846393,
     "end_time": "2020-10-31T15:05:02.731820",
     "exception": false,
     "start_time": "2020-10-31T14:58:12.885427",
     "status": "completed"
    },
    "tags": []
   },
   "outputs": [
    {
     "name": "stdout",
     "output_type": "stream",
     "text": [
      "12 variables:  RandomForestClassifier(n_estimators=500, random_state=11)  F1 score: 0.8340649678089506\n",
      "11 variables:  RandomForestClassifier(n_estimators=5000, random_state=11)  F1 score: 0.8263002529863771\n",
      "10 variables:  RandomForestClassifier(n_estimators=500, random_state=11)  F1 score: 0.8306172323033565\n",
      "9 variables:  RandomForestClassifier(random_state=11)  F1 score: 0.8410399170248493\n",
      "8 variables:  RandomForestClassifier(n_estimators=1000, random_state=11)  F1 score: 0.8435036680809833\n",
      "7 variables:  RandomForestClassifier(criterion='entropy', n_estimators=500, random_state=11)  F1 score: 0.8333208818231832\n"
     ]
    }
   ],
   "source": [
    "for var in np.arange(feat_imp.shape[0],6,-1):\n",
    "    X_new = X[feat_imp.iloc[:var,0]].copy()\n",
    "    X_train, X_test, y_train,y_test = train_test_split(X_new,y,test_size=0.2,random_state=11)\n",
    "    final_rf = RandomForestClassifier(random_state=11)\n",
    "    gscv = GridSearchCV(estimator=final_rf,param_grid={\n",
    "        \"n_estimators\":[100,500,1000,5000],\n",
    "        \"criterion\":[\"gini\",\"entropy\"]\n",
    "    },cv=5,n_jobs=-1,scoring=\"f1_weighted\")\n",
    "\n",
    "    gscv.fit(X_train,y_train)\n",
    "    print(str(var)+\" variables:  \"+str(gscv.best_estimator_)+\"  F1 score: \"+str(gscv.best_score_))"
   ]
  },
  {
   "cell_type": "markdown",
   "metadata": {
    "papermill": {
     "duration": 0.062956,
     "end_time": "2020-10-31T15:05:02.858137",
     "exception": false,
     "start_time": "2020-10-31T15:05:02.795181",
     "status": "completed"
    },
    "tags": []
   },
   "source": [
    "Model with top 8 variables has the best score. Hence the threshold is 1.375402. We'll include all the features with importance above the threshold. So let's build a model with the 8 variables"
   ]
  },
  {
   "cell_type": "code",
   "execution_count": 18,
   "metadata": {
    "execution": {
     "iopub.execute_input": "2020-10-31T15:05:02.999613Z",
     "iopub.status.busy": "2020-10-31T15:05:02.998830Z",
     "iopub.status.idle": "2020-10-31T15:06:08.998620Z",
     "shell.execute_reply": "2020-10-31T15:06:08.997781Z"
    },
    "papermill": {
     "duration": 66.07775,
     "end_time": "2020-10-31T15:06:08.998764",
     "exception": false,
     "start_time": "2020-10-31T15:05:02.921014",
     "status": "completed"
    },
    "tags": []
   },
   "outputs": [],
   "source": [
    "X_new = X[feat_imp.iloc[:8,0]].copy()\n",
    "X_train, X_test, y_train,y_test = train_test_split(X_new,y,test_size=0.2,random_state=11)\n",
    "final_rf = RandomForestClassifier(random_state=11)\n",
    "gscv = GridSearchCV(estimator=final_rf,param_grid={\n",
    "    \"n_estimators\":[100,500,1000,5000],\n",
    "    \"criterion\":[\"gini\",\"entropy\"]\n",
    "},cv=5,n_jobs=-1,scoring=\"f1_weighted\")\n",
    "\n",
    "gscv.fit(X_train,y_train)\n",
    "FINAL_MODEL_NO_SMOTE = gscv.best_estimator_"
   ]
  },
  {
   "cell_type": "code",
   "execution_count": 19,
   "metadata": {
    "execution": {
     "iopub.execute_input": "2020-10-31T15:06:09.137287Z",
     "iopub.status.busy": "2020-10-31T15:06:09.136233Z",
     "iopub.status.idle": "2020-10-31T15:06:09.271163Z",
     "shell.execute_reply": "2020-10-31T15:06:09.271736Z"
    },
    "papermill": {
     "duration": 0.208869,
     "end_time": "2020-10-31T15:06:09.271918",
     "exception": false,
     "start_time": "2020-10-31T15:06:09.063049",
     "status": "completed"
    },
    "tags": []
   },
   "outputs": [
    {
     "data": {
      "text/plain": [
       "1.0"
      ]
     },
     "execution_count": 19,
     "metadata": {},
     "output_type": "execute_result"
    }
   ],
   "source": [
    "FINAL_MODEL_NO_SMOTE.score(X_train,y_train)"
   ]
  },
  {
   "cell_type": "code",
   "execution_count": 20,
   "metadata": {
    "execution": {
     "iopub.execute_input": "2020-10-31T15:06:09.409728Z",
     "iopub.status.busy": "2020-10-31T15:06:09.408565Z",
     "iopub.status.idle": "2020-10-31T15:06:09.543737Z",
     "shell.execute_reply": "2020-10-31T15:06:09.542825Z"
    },
    "papermill": {
     "duration": 0.208074,
     "end_time": "2020-10-31T15:06:09.543921",
     "exception": false,
     "start_time": "2020-10-31T15:06:09.335847",
     "status": "completed"
    },
    "tags": []
   },
   "outputs": [
    {
     "name": "stdout",
     "output_type": "stream",
     "text": [
      "              precision    recall  f1-score   support\n",
      "\n",
      "           0       1.00      1.00      1.00       160\n",
      "           1       1.00      1.00      1.00        79\n",
      "\n",
      "    accuracy                           1.00       239\n",
      "   macro avg       1.00      1.00      1.00       239\n",
      "weighted avg       1.00      1.00      1.00       239\n",
      "\n"
     ]
    }
   ],
   "source": [
    "train_pred = FINAL_MODEL_NO_SMOTE.predict(X_train)\n",
    "print(classification_report(y_train,train_pred))"
   ]
  },
  {
   "cell_type": "markdown",
   "metadata": {
    "papermill": {
     "duration": 0.064141,
     "end_time": "2020-10-31T15:06:09.673269",
     "exception": false,
     "start_time": "2020-10-31T15:06:09.609128",
     "status": "completed"
    },
    "tags": []
   },
   "source": [
    "The model built without SMOTE has a score of 1 on training set and shows the model is overfitting the training data. Further hyperparameter tuning like max_depth may prevent the trees from overfitting."
   ]
  },
  {
   "cell_type": "code",
   "execution_count": 21,
   "metadata": {
    "execution": {
     "iopub.execute_input": "2020-10-31T15:06:09.812751Z",
     "iopub.status.busy": "2020-10-31T15:06:09.810980Z",
     "iopub.status.idle": "2020-10-31T15:06:09.921166Z",
     "shell.execute_reply": "2020-10-31T15:06:09.921759Z"
    },
    "papermill": {
     "duration": 0.184203,
     "end_time": "2020-10-31T15:06:09.921926",
     "exception": false,
     "start_time": "2020-10-31T15:06:09.737723",
     "status": "completed"
    },
    "tags": []
   },
   "outputs": [
    {
     "data": {
      "text/plain": [
       "0.8666666666666667"
      ]
     },
     "execution_count": 21,
     "metadata": {},
     "output_type": "execute_result"
    }
   ],
   "source": [
    "FINAL_MODEL_NO_SMOTE.score(X_test,y_test)"
   ]
  },
  {
   "cell_type": "markdown",
   "metadata": {
    "papermill": {
     "duration": 0.065988,
     "end_time": "2020-10-31T15:06:10.060052",
     "exception": false,
     "start_time": "2020-10-31T15:06:09.994064",
     "status": "completed"
    },
    "tags": []
   },
   "source": [
    "<h3>As expected the model is overfit to the training set as the test set score is 0.86 and the CV score is 0.84 vs the training set score of 1."
   ]
  },
  {
   "cell_type": "markdown",
   "metadata": {
    "papermill": {
     "duration": 0.065721,
     "end_time": "2020-10-31T15:06:10.192003",
     "exception": false,
     "start_time": "2020-10-31T15:06:10.126282",
     "status": "completed"
    },
    "tags": []
   },
   "source": [
    "<a id=\"smote\"></a><h1>Handling Imbalanced Class Problem With SMOTE</h1>"
   ]
  },
  {
   "cell_type": "markdown",
   "metadata": {
    "papermill": {
     "duration": 0.064481,
     "end_time": "2020-10-31T15:06:10.321516",
     "exception": false,
     "start_time": "2020-10-31T15:06:10.257035",
     "status": "completed"
    },
    "tags": []
   },
   "source": [
    "<h3>SMOTE stands for 'Synthetic Minority Oversampling Technique' is an oversampling technique of the minority category. SMOTE generates synthetic samples to brings the count of the categories in the training target variable to the same number.</h3> Below is a plot to show synthetic samples/examples generated using SMOTE in comparison with original samples/examples"
   ]
  },
  {
   "cell_type": "code",
   "execution_count": 22,
   "metadata": {
    "execution": {
     "iopub.execute_input": "2020-10-31T15:06:10.473444Z",
     "iopub.status.busy": "2020-10-31T15:06:10.469929Z",
     "iopub.status.idle": "2020-10-31T15:06:10.889016Z",
     "shell.execute_reply": "2020-10-31T15:06:10.889649Z"
    },
    "papermill": {
     "duration": 0.5034,
     "end_time": "2020-10-31T15:06:10.889823",
     "exception": false,
     "start_time": "2020-10-31T15:06:10.386423",
     "status": "completed"
    },
    "tags": []
   },
   "outputs": [
    {
     "data": {
      "image/png": "[encoded data removed]",
      "text/plain": [
       "<Figure size 739.125x432 with 1 Axes>"
      ]
     },
     "metadata": {
      "needs_background": "light"
     },
     "output_type": "display_data"
    }
   ],
   "source": [
    "X_new = X.copy()\n",
    "X_train, X_test, y_train,y_test = train_test_split(X_new,y,test_size=0.2,random_state=11)\n",
    "smote = SMOTE(random_state = 11) \n",
    "X_train_smote, y_train_smote = smote.fit_sample(X_train, y_train)\n",
    "\n",
    "\n",
    "X_train.insert(12,\"category\",\"NO_SMOTE\")\n",
    "X_train_smote.insert(12,\"category\",\"SMOTE\")\n",
    "\n",
    "\n",
    "final_X = X_train.append(X_train_smote).copy()\n",
    "final_X.drop_duplicates(subset=list(final_X.columns[:-1]),inplace=True)\n",
    "final_cat = final_X[\"category\"]\n",
    "final_X.drop(columns=\"category\",inplace=True)\n",
    "pca = PCA(n_components=2)\n",
    "final_X = pd.DataFrame(pca.fit_transform(final_X))\n",
    "final_X[\"category\"] = list(final_cat)\n",
    "final_X = final_X.loc[(final_X[0]<=200000) & (final_X[1]<=2000),:].copy()\n",
    "sns.relplot(data=final_X,x=0,y=1,hue=\"category\",alpha=0.6,s=100,height=6,aspect=1.5)\n",
    "plt.title(\"Synthetic Examples Generated Using SMOTE\");"
   ]
  },
  {
   "cell_type": "code",
   "execution_count": 23,
   "metadata": {
    "execution": {
     "iopub.execute_input": "2020-10-31T15:06:11.117052Z",
     "iopub.status.busy": "2020-10-31T15:06:11.116058Z",
     "iopub.status.idle": "2020-10-31T15:12:55.840419Z",
     "shell.execute_reply": "2020-10-31T15:12:55.841031Z"
    },
    "papermill": {
     "duration": 404.882276,
     "end_time": "2020-10-31T15:12:55.841198",
     "exception": false,
     "start_time": "2020-10-31T15:06:10.958922",
     "status": "completed"
    },
    "tags": []
   },
   "outputs": [
    {
     "name": "stdout",
     "output_type": "stream",
     "text": [
      "12 variables:  RandomForestClassifier(criterion='entropy', random_state=11)  F1 score: 0.8873161575080999\n",
      "11 variables:  RandomForestClassifier(criterion='entropy', n_estimators=500, random_state=11)  F1 score: 0.8842412152469079\n",
      "10 variables:  RandomForestClassifier(random_state=11)  F1 score: 0.8839385437774332\n",
      "9 variables:  RandomForestClassifier(random_state=11)  F1 score: 0.887216678453329\n",
      "8 variables:  RandomForestClassifier(criterion='entropy', n_estimators=500, random_state=11)  F1 score: 0.8934649174455945\n",
      "7 variables:  RandomForestClassifier(criterion='entropy', random_state=11)  F1 score: 0.8840295095155696\n"
     ]
    }
   ],
   "source": [
    "for var in np.arange(feat_imp.shape[0],6,-1):\n",
    "    X_new = X[feat_imp.iloc[:var,0]].copy()\n",
    "    X_train, X_test, y_train,y_test = train_test_split(X_new,y,test_size=0.2,random_state=11)\n",
    "    smote = SMOTE(random_state = 11) \n",
    "    X_train_smote, y_train_smote = smote.fit_sample(X_train, y_train)\n",
    "    final_rf = RandomForestClassifier(random_state=11)\n",
    "    \n",
    "    \n",
    "    gscv = GridSearchCV(estimator=final_rf,param_grid={\n",
    "        \"n_estimators\":[100,500,1000,5000],\n",
    "        \"criterion\":[\"gini\",\"entropy\"]\n",
    "    },cv=5,n_jobs=-1,scoring=\"f1_weighted\")\n",
    "\n",
    "    gscv.fit(X_train_smote,y_train_smote)\n",
    "    print(str(var)+\" variables:  \"+str(gscv.best_estimator_)+\"  F1 score: \"+str(gscv.best_score_))"
   ]
  },
  {
   "cell_type": "markdown",
   "metadata": {
    "papermill": {
     "duration": 0.071156,
     "end_time": "2020-10-31T15:12:55.983236",
     "exception": false,
     "start_time": "2020-10-31T15:12:55.912080",
     "status": "completed"
    },
    "tags": []
   },
   "source": [
    "As seen above, SMOTE has brought an improvement in the model score.\n",
    "\n",
    "The best model is the one with top 8 variables\n",
    "\n",
    "Below we build the final model with 8 variables"
   ]
  },
  {
   "cell_type": "markdown",
   "metadata": {
    "papermill": {
     "duration": 0.069716,
     "end_time": "2020-10-31T15:12:56.122717",
     "exception": false,
     "start_time": "2020-10-31T15:12:56.053001",
     "status": "completed"
    },
    "tags": []
   },
   "source": [
    "<a id=\"rf\"></a><h1>Training RandomForestClassifier & Hyperparameter Tuning With GridSearchCV</h1>"
   ]
  },
  {
   "cell_type": "code",
   "execution_count": 24,
   "metadata": {
    "execution": {
     "iopub.execute_input": "2020-10-31T15:12:56.277027Z",
     "iopub.status.busy": "2020-10-31T15:12:56.271905Z",
     "iopub.status.idle": "2020-10-31T15:14:03.670803Z",
     "shell.execute_reply": "2020-10-31T15:14:03.670009Z"
    },
    "papermill": {
     "duration": 67.477712,
     "end_time": "2020-10-31T15:14:03.670934",
     "exception": false,
     "start_time": "2020-10-31T15:12:56.193222",
     "status": "completed"
    },
    "tags": []
   },
   "outputs": [],
   "source": [
    "X_new = X[feat_imp.iloc[:8,0]].copy()\n",
    "X_train, X_test, y_train,y_test = train_test_split(X_new,y,test_size=0.2,random_state=11)\n",
    "smote = SMOTE(random_state = 11) \n",
    "X_train_smote, y_train_smote = smote.fit_sample(X_train, y_train)\n",
    "final_rf = RandomForestClassifier(random_state=11)\n",
    "gscv = GridSearchCV(estimator=final_rf,param_grid={\n",
    "    \"n_estimators\":[100,500,1000,5000],\n",
    "    \"criterion\":[\"gini\",\"entropy\"]\n",
    "},cv=5,n_jobs=-1,scoring=\"f1_weighted\")\n",
    "\n",
    "gscv.fit(X_train_smote,y_train_smote)\n",
    "FINAL_MODEL = gscv.best_estimator_"
   ]
  },
  {
   "cell_type": "code",
   "execution_count": 25,
   "metadata": {
    "execution": {
     "iopub.execute_input": "2020-10-31T15:14:03.821769Z",
     "iopub.status.busy": "2020-10-31T15:14:03.820967Z",
     "iopub.status.idle": "2020-10-31T15:14:03.894525Z",
     "shell.execute_reply": "2020-10-31T15:14:03.893869Z"
    },
    "papermill": {
     "duration": 0.152861,
     "end_time": "2020-10-31T15:14:03.894661",
     "exception": false,
     "start_time": "2020-10-31T15:14:03.741800",
     "status": "completed"
    },
    "tags": []
   },
   "outputs": [
    {
     "data": {
      "text/plain": [
       "1.0"
      ]
     },
     "execution_count": 25,
     "metadata": {},
     "output_type": "execute_result"
    }
   ],
   "source": [
    "FINAL_MODEL.score(X_train_smote,y_train_smote)"
   ]
  },
  {
   "cell_type": "code",
   "execution_count": 26,
   "metadata": {
    "execution": {
     "iopub.execute_input": "2020-10-31T15:14:04.061244Z",
     "iopub.status.busy": "2020-10-31T15:14:04.059884Z",
     "iopub.status.idle": "2020-10-31T15:14:04.165761Z",
     "shell.execute_reply": "2020-10-31T15:14:04.165086Z"
    },
    "papermill": {
     "duration": 0.199265,
     "end_time": "2020-10-31T15:14:04.165921",
     "exception": false,
     "start_time": "2020-10-31T15:14:03.966656",
     "status": "completed"
    },
    "tags": []
   },
   "outputs": [
    {
     "name": "stdout",
     "output_type": "stream",
     "text": [
      "              precision    recall  f1-score   support\n",
      "\n",
      "           0       1.00      1.00      1.00       160\n",
      "           1       1.00      1.00      1.00       160\n",
      "\n",
      "    accuracy                           1.00       320\n",
      "   macro avg       1.00      1.00      1.00       320\n",
      "weighted avg       1.00      1.00      1.00       320\n",
      "\n"
     ]
    }
   ],
   "source": [
    "train_pred = FINAL_MODEL.predict(X_train_smote)\n",
    "print(classification_report(y_train_smote,train_pred))"
   ]
  },
  {
   "cell_type": "markdown",
   "metadata": {
    "papermill": {
     "duration": 0.072427,
     "end_time": "2020-10-31T15:14:04.313096",
     "exception": false,
     "start_time": "2020-10-31T15:14:04.240669",
     "status": "completed"
    },
    "tags": []
   },
   "source": [
    "The training set score is again 1. Further hyperparameter tuning like max_depth may prevent the trees from overfitting."
   ]
  },
  {
   "cell_type": "code",
   "execution_count": 27,
   "metadata": {
    "execution": {
     "iopub.execute_input": "2020-10-31T15:14:04.466363Z",
     "iopub.status.busy": "2020-10-31T15:14:04.464869Z",
     "iopub.status.idle": "2020-10-31T15:14:04.524851Z",
     "shell.execute_reply": "2020-10-31T15:14:04.524055Z"
    },
    "papermill": {
     "duration": 0.140701,
     "end_time": "2020-10-31T15:14:04.524975",
     "exception": false,
     "start_time": "2020-10-31T15:14:04.384274",
     "status": "completed"
    },
    "tags": []
   },
   "outputs": [
    {
     "data": {
      "text/plain": [
       "0.9"
      ]
     },
     "execution_count": 27,
     "metadata": {},
     "output_type": "execute_result"
    }
   ],
   "source": [
    "FINAL_MODEL.score(X_test,y_test) #Test set score"
   ]
  },
  {
   "cell_type": "code",
   "execution_count": 28,
   "metadata": {
    "execution": {
     "iopub.execute_input": "2020-10-31T15:14:04.723946Z",
     "iopub.status.busy": "2020-10-31T15:14:04.721867Z",
     "iopub.status.idle": "2020-10-31T15:14:04.751864Z",
     "shell.execute_reply": "2020-10-31T15:14:04.751137Z"
    },
    "papermill": {
     "duration": 0.155455,
     "end_time": "2020-10-31T15:14:04.751992",
     "exception": false,
     "start_time": "2020-10-31T15:14:04.596537",
     "status": "completed"
    },
    "tags": []
   },
   "outputs": [],
   "source": [
    "pred = FINAL_MODEL.predict(X_test)"
   ]
  },
  {
   "cell_type": "code",
   "execution_count": 29,
   "metadata": {
    "execution": {
     "iopub.execute_input": "2020-10-31T15:14:04.904829Z",
     "iopub.status.busy": "2020-10-31T15:14:04.903943Z",
     "iopub.status.idle": "2020-10-31T15:14:04.913647Z",
     "shell.execute_reply": "2020-10-31T15:14:04.914185Z"
    },
    "papermill": {
     "duration": 0.088751,
     "end_time": "2020-10-31T15:14:04.914372",
     "exception": false,
     "start_time": "2020-10-31T15:14:04.825621",
     "status": "completed"
    },
    "tags": []
   },
   "outputs": [
    {
     "name": "stdout",
     "output_type": "stream",
     "text": [
      "              precision    recall  f1-score   support\n",
      "\n",
      "           0       0.97      0.88      0.93        43\n",
      "           1       0.76      0.94      0.84        17\n",
      "\n",
      "    accuracy                           0.90        60\n",
      "   macro avg       0.87      0.91      0.88        60\n",
      "weighted avg       0.91      0.90      0.90        60\n",
      "\n"
     ]
    }
   ],
   "source": [
    "print(classification_report(y_test,pred))"
   ]
  },
  {
   "cell_type": "markdown",
   "metadata": {
    "papermill": {
     "duration": 0.073881,
     "end_time": "2020-10-31T15:14:05.061557",
     "exception": false,
     "start_time": "2020-10-31T15:14:04.987676",
     "status": "completed"
    },
    "tags": []
   },
   "source": [
    "The test set scores and the CV scores of model trained on data with SMOTE applied are better compared to the model trained without SMOTE. So, we'll consider the model trained on data with SMOTE applied as the final model."
   ]
  },
  {
   "cell_type": "markdown",
   "metadata": {
    "papermill": {
     "duration": 0.073157,
     "end_time": "2020-10-31T15:14:05.207661",
     "exception": false,
     "start_time": "2020-10-31T15:14:05.134504",
     "status": "completed"
    },
    "tags": []
   },
   "source": [
    "<a id=\"lc\"></a><h1>Identifying Overfitting With Learning Curve</h1>\n",
    "<h3>Learning curve helps us identify bias and variance and also helps us confirm if adding more training data will improve the performance on unseen data or not"
   ]
  },
  {
   "cell_type": "code",
   "execution_count": 30,
   "metadata": {
    "execution": {
     "iopub.execute_input": "2020-10-31T15:14:05.364097Z",
     "iopub.status.busy": "2020-10-31T15:14:05.363301Z",
     "iopub.status.idle": "2020-10-31T15:14:36.486851Z",
     "shell.execute_reply": "2020-10-31T15:14:36.487472Z"
    },
    "papermill": {
     "duration": 31.207016,
     "end_time": "2020-10-31T15:14:36.487636",
     "exception": false,
     "start_time": "2020-10-31T15:14:05.280620",
     "status": "completed"
    },
    "tags": []
   },
   "outputs": [
    {
     "data": {
      "image/png": "[encoded data removed]",
      "text/plain": [
       "<Figure size 432x288 with 1 Axes>"
      ]
     },
     "metadata": {
      "needs_background": "light"
     },
     "output_type": "display_data"
    }
   ],
   "source": [
    "train_size,train_acc,test_acc = learning_curve(FINAL_MODEL, X_train_smote,y_train_smote,cv=5)\n",
    "learn_df = pd.DataFrame({\"Train_size\":train_size,\"Train_Accuracy\":train_acc.mean(axis=1),\"Test_Accuracy\":test_acc.mean(axis=1)}).melt(id_vars=\"Train_size\")\n",
    "sns.lineplot(x=\"Train_size\",y=\"value\",data=learn_df,hue=\"variable\")\n",
    "plt.title(\"Learning Curve\")\n",
    "plt.ylabel(\"Accuracy\");"
   ]
  },
  {
   "cell_type": "markdown",
   "metadata": {
    "papermill": {
     "duration": 0.07444,
     "end_time": "2020-10-31T15:14:36.636545",
     "exception": false,
     "start_time": "2020-10-31T15:14:36.562105",
     "status": "completed"
    },
    "tags": []
   },
   "source": [
    "<h3>The model is overfit to the train set despite</h3>\n",
    "\n",
    "<h3>\n",
    "<ol>\n",
    "    <li>Using Ensembling</li>\n",
    "    <li>Reducing the number of features</li>\n",
    "    </ol>\n",
    "    \n",
    "Hence, overfitting might be because of a very small training set used. As seen from the learning curve, adding additional examples to the training set will improve the model performance on unseen data. There has been an improvement in the CV score and test set score after adding synthetic examples using SMOTE. Further hyperparameter tuning may also be explored to prevent the classifier from overfitting.  "
   ]
  },
  {
   "cell_type": "markdown",
   "metadata": {
    "papermill": {
     "duration": 0.073222,
     "end_time": "2020-10-31T15:14:36.784160",
     "exception": false,
     "start_time": "2020-10-31T15:14:36.710938",
     "status": "completed"
    },
    "tags": []
   },
   "source": [
    "The predictions of the final model with 8 variables and SMOTE"
   ]
  },
  {
   "cell_type": "code",
   "execution_count": 31,
   "metadata": {
    "execution": {
     "iopub.execute_input": "2020-10-31T15:14:36.949176Z",
     "iopub.status.busy": "2020-10-31T15:14:36.947487Z",
     "iopub.status.idle": "2020-10-31T15:14:37.167265Z",
     "shell.execute_reply": "2020-10-31T15:14:37.166506Z"
    },
    "papermill": {
     "duration": 0.309194,
     "end_time": "2020-10-31T15:14:37.167407",
     "exception": false,
     "start_time": "2020-10-31T15:14:36.858213",
     "status": "completed"
    },
    "tags": []
   },
   "outputs": [
    {
     "data": {
      "image/png": "[encoded data removed]",
      "text/plain": [
       "<Figure size 432x288 with 2 Axes>"
      ]
     },
     "metadata": {
      "needs_background": "light"
     },
     "output_type": "display_data"
    }
   ],
   "source": [
    "sns.heatmap(confusion_matrix(y_test,pred),annot=True)\n",
    "plt.ylabel(\"Actual\")\n",
    "plt.xlabel(\"Prediction\");"
   ]
  },
  {
   "cell_type": "markdown",
   "metadata": {
    "papermill": {
     "duration": 0.07425,
     "end_time": "2020-10-31T15:14:37.316448",
     "exception": false,
     "start_time": "2020-10-31T15:14:37.242198",
     "status": "completed"
    },
    "tags": []
   },
   "source": [
    "<a id=\"oof\"></a><h1>Overcoming Overfitting</h1>\n",
    "\n",
    "<h3>As discussed above, adding training examples can prevent overfitting, but we have no option to add more training examples. Hence, we need to do something else. We'll discuss few ways of overcoming overfitting a model to smaller datasets</h3>\n",
    "\n",
    "<h3>Using a simpler model on small training sets is one of the ways to prevent overfitting. But we're to learn how to overcome overfitting RandomForest to smaller datasets. Tuning few hyperparameters helps us overcome overfitting"
   ]
  },
  {
   "cell_type": "code",
   "execution_count": 32,
   "metadata": {
    "execution": {
     "iopub.execute_input": "2020-10-31T15:14:37.486228Z",
     "iopub.status.busy": "2020-10-31T15:14:37.484995Z",
     "iopub.status.idle": "2020-10-31T15:35:01.469814Z",
     "shell.execute_reply": "2020-10-31T15:35:01.468426Z"
    },
    "papermill": {
     "duration": 1224.077878,
     "end_time": "2020-10-31T15:35:01.470002",
     "exception": false,
     "start_time": "2020-10-31T15:14:37.392124",
     "status": "completed"
    },
    "tags": []
   },
   "outputs": [],
   "source": [
    "X_new = X[feat_imp.iloc[:8,0]].copy()\n",
    "X_train, X_test, y_train,y_test = train_test_split(X_new,y,test_size=0.2,random_state=11)\n",
    "smote = SMOTE(random_state = 11) \n",
    "X_train_smote, y_train_smote = smote.fit_sample(X_train, y_train)\n",
    "final_rf = RandomForestClassifier(random_state=11)\n",
    "gscv = GridSearchCV(estimator=final_rf,param_grid={\n",
    "    \"n_estimators\":[5000,7000],\n",
    "    \"criterion\":[\"gini\",\"entropy\"],\n",
    "    \"max_depth\":[3,5,7],\n",
    "    \"min_samples_split\":[80,100],\n",
    "    \"min_samples_leaf\":[40,50],\n",
    "},cv=5,n_jobs=-1,scoring=\"f1_weighted\")\n",
    "\n",
    "gscv.fit(X_train_smote,y_train_smote)\n",
    "FINAL_MODEL = gscv.best_estimator_"
   ]
  },
  {
   "cell_type": "code",
   "execution_count": 33,
   "metadata": {
    "execution": {
     "iopub.execute_input": "2020-10-31T15:35:01.640918Z",
     "iopub.status.busy": "2020-10-31T15:35:01.639591Z",
     "iopub.status.idle": "2020-10-31T15:35:01.644268Z",
     "shell.execute_reply": "2020-10-31T15:35:01.645276Z"
    },
    "papermill": {
     "duration": 0.0914,
     "end_time": "2020-10-31T15:35:01.645541",
     "exception": false,
     "start_time": "2020-10-31T15:35:01.554141",
     "status": "completed"
    },
    "tags": []
   },
   "outputs": [
    {
     "data": {
      "text/plain": [
       "RandomForestClassifier(max_depth=3, min_samples_leaf=40, min_samples_split=100,\n",
       "                       n_estimators=7000, random_state=11)"
      ]
     },
     "execution_count": 33,
     "metadata": {},
     "output_type": "execute_result"
    }
   ],
   "source": [
    "FINAL_MODEL"
   ]
  },
  {
   "cell_type": "code",
   "execution_count": 34,
   "metadata": {
    "execution": {
     "iopub.execute_input": "2020-10-31T15:35:01.820635Z",
     "iopub.status.busy": "2020-10-31T15:35:01.819719Z",
     "iopub.status.idle": "2020-10-31T15:35:01.824525Z",
     "shell.execute_reply": "2020-10-31T15:35:01.823877Z"
    },
    "papermill": {
     "duration": 0.089783,
     "end_time": "2020-10-31T15:35:01.824649",
     "exception": false,
     "start_time": "2020-10-31T15:35:01.734866",
     "status": "completed"
    },
    "tags": []
   },
   "outputs": [
    {
     "data": {
      "text/plain": [
       "0.8468253789221531"
      ]
     },
     "execution_count": 34,
     "metadata": {},
     "output_type": "execute_result"
    }
   ],
   "source": [
    "gscv.best_score_"
   ]
  },
  {
   "cell_type": "code",
   "execution_count": 35,
   "metadata": {
    "execution": {
     "iopub.execute_input": "2020-10-31T15:35:01.990943Z",
     "iopub.status.busy": "2020-10-31T15:35:01.990154Z",
     "iopub.status.idle": "2020-10-31T15:35:02.856628Z",
     "shell.execute_reply": "2020-10-31T15:35:02.855813Z"
    },
    "papermill": {
     "duration": 0.954156,
     "end_time": "2020-10-31T15:35:02.856764",
     "exception": false,
     "start_time": "2020-10-31T15:35:01.902608",
     "status": "completed"
    },
    "tags": []
   },
   "outputs": [
    {
     "data": {
      "text/plain": [
       "0.859375"
      ]
     },
     "execution_count": 35,
     "metadata": {},
     "output_type": "execute_result"
    }
   ],
   "source": [
    "FINAL_MODEL.score(X_train_smote,y_train_smote)"
   ]
  },
  {
   "cell_type": "markdown",
   "metadata": {
    "papermill": {
     "duration": 0.084055,
     "end_time": "2020-10-31T15:35:03.024280",
     "exception": false,
     "start_time": "2020-10-31T15:35:02.940225",
     "status": "completed"
    },
    "tags": []
   },
   "source": [
    "<h3>Now we see the model is not overfit to the training set. This is because:</h3>\n",
    "    \n",
    "<h4><ol><li>We selected a large number for n_estimators, which grows more trees, hence preventing overfitting.</li>\n",
    "<li>We prevented the tree to grow by choosing a low number for 'max_depth'.</li>\n",
    "<li>We selected large numbers for 'max_samples_split' and 'max_samples_leaf', which ensures the leaf has a good number of samples."
   ]
  },
  {
   "cell_type": "code",
   "execution_count": 36,
   "metadata": {
    "execution": {
     "iopub.execute_input": "2020-10-31T15:35:03.194658Z",
     "iopub.status.busy": "2020-10-31T15:35:03.193359Z",
     "iopub.status.idle": "2020-10-31T15:35:04.062966Z",
     "shell.execute_reply": "2020-10-31T15:35:04.062280Z"
    },
    "papermill": {
     "duration": 0.96003,
     "end_time": "2020-10-31T15:35:04.063089",
     "exception": false,
     "start_time": "2020-10-31T15:35:03.103059",
     "status": "completed"
    },
    "tags": []
   },
   "outputs": [
    {
     "name": "stdout",
     "output_type": "stream",
     "text": [
      "              precision    recall  f1-score   support\n",
      "\n",
      "           0       0.87      0.85      0.86       160\n",
      "           1       0.85      0.87      0.86       160\n",
      "\n",
      "    accuracy                           0.86       320\n",
      "   macro avg       0.86      0.86      0.86       320\n",
      "weighted avg       0.86      0.86      0.86       320\n",
      "\n"
     ]
    }
   ],
   "source": [
    "train_pred = FINAL_MODEL.predict(X_train_smote)\n",
    "print(classification_report(y_train_smote,train_pred))"
   ]
  },
  {
   "cell_type": "code",
   "execution_count": 37,
   "metadata": {
    "execution": {
     "iopub.execute_input": "2020-10-31T15:35:04.231453Z",
     "iopub.status.busy": "2020-10-31T15:35:04.229407Z",
     "iopub.status.idle": "2020-10-31T15:35:04.938667Z",
     "shell.execute_reply": "2020-10-31T15:35:04.937887Z"
    },
    "papermill": {
     "duration": 0.796672,
     "end_time": "2020-10-31T15:35:04.938793",
     "exception": false,
     "start_time": "2020-10-31T15:35:04.142121",
     "status": "completed"
    },
    "tags": []
   },
   "outputs": [
    {
     "data": {
      "text/plain": [
       "0.8833333333333333"
      ]
     },
     "execution_count": 37,
     "metadata": {},
     "output_type": "execute_result"
    }
   ],
   "source": [
    "FINAL_MODEL.score(X_test,y_test) #Test set score"
   ]
  },
  {
   "cell_type": "markdown",
   "metadata": {
    "papermill": {
     "duration": 0.077329,
     "end_time": "2020-10-31T15:35:05.094626",
     "exception": false,
     "start_time": "2020-10-31T15:35:05.017297",
     "status": "completed"
    },
    "tags": []
   },
   "source": [
    "<h3>Training set score is close to cross validation and test set score, showing that the model is not overfit to the training set."
   ]
  },
  {
   "cell_type": "markdown",
   "metadata": {
    "papermill": {
     "duration": 0.079072,
     "end_time": "2020-10-31T15:35:05.252377",
     "exception": false,
     "start_time": "2020-10-31T15:35:05.173305",
     "status": "completed"
    },
    "tags": []
   },
   "source": [
    "<h2>Metrics of the final model"
   ]
  },
  {
   "cell_type": "code",
   "execution_count": 38,
   "metadata": {
    "execution": {
     "iopub.execute_input": "2020-10-31T15:35:05.421550Z",
     "iopub.status.busy": "2020-10-31T15:35:05.420125Z",
     "iopub.status.idle": "2020-10-31T15:35:06.229967Z",
     "shell.execute_reply": "2020-10-31T15:35:06.229184Z"
    },
    "papermill": {
     "duration": 0.898007,
     "end_time": "2020-10-31T15:35:06.230101",
     "exception": false,
     "start_time": "2020-10-31T15:35:05.332094",
     "status": "completed"
    },
    "tags": []
   },
   "outputs": [],
   "source": [
    "pred = FINAL_MODEL.predict(X_test)"
   ]
  },
  {
   "cell_type": "code",
   "execution_count": 39,
   "metadata": {
    "execution": {
     "iopub.execute_input": "2020-10-31T15:35:06.398114Z",
     "iopub.status.busy": "2020-10-31T15:35:06.397273Z",
     "iopub.status.idle": "2020-10-31T15:35:06.405175Z",
     "shell.execute_reply": "2020-10-31T15:35:06.404564Z"
    },
    "papermill": {
     "duration": 0.096202,
     "end_time": "2020-10-31T15:35:06.405302",
     "exception": false,
     "start_time": "2020-10-31T15:35:06.309100",
     "status": "completed"
    },
    "tags": []
   },
   "outputs": [
    {
     "name": "stdout",
     "output_type": "stream",
     "text": [
      "              precision    recall  f1-score   support\n",
      "\n",
      "           0       0.97      0.86      0.91        43\n",
      "           1       0.73      0.94      0.82        17\n",
      "\n",
      "    accuracy                           0.88        60\n",
      "   macro avg       0.85      0.90      0.87        60\n",
      "weighted avg       0.90      0.88      0.89        60\n",
      "\n"
     ]
    }
   ],
   "source": [
    "print(classification_report(y_test,pred))"
   ]
  },
  {
   "cell_type": "code",
   "execution_count": 40,
   "metadata": {
    "execution": {
     "iopub.execute_input": "2020-10-31T15:35:06.649711Z",
     "iopub.status.busy": "2020-10-31T15:35:06.575390Z",
     "iopub.status.idle": "2020-10-31T15:35:07.490146Z",
     "shell.execute_reply": "2020-10-31T15:35:07.489547Z"
    },
    "papermill": {
     "duration": 1.00429,
     "end_time": "2020-10-31T15:35:07.490271",
     "exception": false,
     "start_time": "2020-10-31T15:35:06.485981",
     "status": "completed"
    },
    "tags": []
   },
   "outputs": [
    {
     "data": {
      "image/png": "[encoded data removed]",
      "text/plain": [
       "<Figure size 432x288 with 1 Axes>"
      ]
     },
     "metadata": {
      "needs_background": "light"
     },
     "output_type": "display_data"
    }
   ],
   "source": [
    "plot_roc_curve(FINAL_MODEL, X_test, y_test)\n",
    "plt.show()"
   ]
  },
  {
   "cell_type": "code",
   "execution_count": 41,
   "metadata": {
    "execution": {
     "iopub.execute_input": "2020-10-31T15:35:07.660969Z",
     "iopub.status.busy": "2020-10-31T15:35:07.659589Z",
     "iopub.status.idle": "2020-10-31T15:35:08.583871Z",
     "shell.execute_reply": "2020-10-31T15:35:08.583158Z"
    },
    "papermill": {
     "duration": 1.013278,
     "end_time": "2020-10-31T15:35:08.583999",
     "exception": false,
     "start_time": "2020-10-31T15:35:07.570721",
     "status": "completed"
    },
    "tags": []
   },
   "outputs": [
    {
     "data": {
      "image/png": "[encoded data removed]",
      "text/plain": [
       "<Figure size 432x288 with 1 Axes>"
      ]
     },
     "metadata": {
      "needs_background": "light"
     },
     "output_type": "display_data"
    }
   ],
   "source": [
    "plot_precision_recall_curve(FINAL_MODEL, X_test, y_test)\n",
    "plt.show()"
   ]
  },
  {
   "cell_type": "markdown",
   "metadata": {
    "papermill": {
     "duration": 0.081463,
     "end_time": "2020-10-31T15:35:08.746811",
     "exception": false,
     "start_time": "2020-10-31T15:35:08.665348",
     "status": "completed"
    },
    "tags": []
   },
   "source": [
    "<h3>As seen in the ROC curve above, this model has a good True Positive Rate (TPR) which is important for a model used for medical diagnosis"
   ]
  },
  {
   "cell_type": "code",
   "execution_count": 42,
   "metadata": {
    "execution": {
     "iopub.execute_input": "2020-10-31T15:35:08.925979Z",
     "iopub.status.busy": "2020-10-31T15:35:08.925087Z",
     "iopub.status.idle": "2020-10-31T15:35:09.133808Z",
     "shell.execute_reply": "2020-10-31T15:35:09.132575Z"
    },
    "papermill": {
     "duration": 0.305535,
     "end_time": "2020-10-31T15:35:09.133988",
     "exception": false,
     "start_time": "2020-10-31T15:35:08.828453",
     "status": "completed"
    },
    "tags": []
   },
   "outputs": [
    {
     "data": {
      "image/png": "[encoded data removed]",
      "text/plain": [
       "<Figure size 432x288 with 2 Axes>"
      ]
     },
     "metadata": {
      "needs_background": "light"
     },
     "output_type": "display_data"
    }
   ],
   "source": [
    "sns.heatmap(confusion_matrix(y_test,pred),annot=True)\n",
    "plt.ylabel(\"Actual\")\n",
    "plt.xlabel(\"Prediction\");"
   ]
  }
 ],
 "metadata": {
  "kernelspec": {
   "display_name": "Python 3",
   "language": "python",
   "name": "python3"
  },
  "language_info": {
   "codemirror_mode": {
    "name": "ipython",
    "version": 3
   },
   "file_extension": ".py",
   "mimetype": "text/x-python",
   "name": "python",
   "nbconvert_exporter": "python",
   "pygments_lexer": "ipython3",
   "version": "3.8.5"
  },
  "papermill": {
   "duration": 2242.441626,
   "end_time": "2020-10-31T15:35:09.345790",
   "environment_variables": {},
   "exception": null,
   "input_path": "__notebook__.ipynb",
   "output_path": "__notebook__.ipynb",
   "parameters": {},
   "start_time": "2020-10-31T14:57:46.904164",
   "version": "2.1.0"
  }
 },
 "nbformat": 4,
 "nbformat_minor": 4
}
